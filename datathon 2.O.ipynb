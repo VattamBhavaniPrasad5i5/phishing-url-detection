{
 "cells": [
  {
   "cell_type": "code",
   "execution_count": 1,
   "id": "ec38089f",
   "metadata": {},
   "outputs": [],
   "source": [
    "#importing the necessary packages\n",
    "import pandas as pd\n",
    "import numpy as np"
   ]
  },
  {
   "cell_type": "markdown",
   "id": "135fb614",
   "metadata": {},
   "source": [
    "# Loading the dataset"
   ]
  },
  {
   "cell_type": "code",
   "execution_count": 2,
   "id": "2309858e",
   "metadata": {},
   "outputs": [],
   "source": [
    "te=pd.read_csv(\"testing_data.csv\")"
   ]
  },
  {
   "cell_type": "code",
   "execution_count": 3,
   "id": "e03f5bbb",
   "metadata": {},
   "outputs": [
    {
     "data": {
      "text/html": [
       "<div>\n",
       "<style scoped>\n",
       "    .dataframe tbody tr th:only-of-type {\n",
       "        vertical-align: middle;\n",
       "    }\n",
       "\n",
       "    .dataframe tbody tr th {\n",
       "        vertical-align: top;\n",
       "    }\n",
       "\n",
       "    .dataframe thead th {\n",
       "        text-align: right;\n",
       "    }\n",
       "</style>\n",
       "<table border=\"1\" class=\"dataframe\">\n",
       "  <thead>\n",
       "    <tr style=\"text-align: right;\">\n",
       "      <th></th>\n",
       "      <th>http://www.skofija-novomesto.si/</th>\n",
       "    </tr>\n",
       "  </thead>\n",
       "  <tbody>\n",
       "    <tr>\n",
       "      <th>0</th>\n",
       "      <td>http://ferlafashion.com/saint/www.loginalibaba...</td>\n",
       "    </tr>\n",
       "    <tr>\n",
       "      <th>1</th>\n",
       "      <td>http://spatrendonline.hu</td>\n",
       "    </tr>\n",
       "    <tr>\n",
       "      <th>2</th>\n",
       "      <td>http://defensasur.com.ar</td>\n",
       "    </tr>\n",
       "    <tr>\n",
       "      <th>3</th>\n",
       "      <td>http://www.digitalvd.de/dvds/37399</td>\n",
       "    </tr>\n",
       "    <tr>\n",
       "      <th>4</th>\n",
       "      <td>http://tradewfx.com/service/admin/1drive/onedr...</td>\n",
       "    </tr>\n",
       "    <tr>\n",
       "      <th>...</th>\n",
       "      <td>...</td>\n",
       "    </tr>\n",
       "    <tr>\n",
       "      <th>25213</th>\n",
       "      <td>http://mohaseban.org</td>\n",
       "    </tr>\n",
       "    <tr>\n",
       "      <th>25214</th>\n",
       "      <td>https://www.la-croix.com/</td>\n",
       "    </tr>\n",
       "    <tr>\n",
       "      <th>25215</th>\n",
       "      <td>http://bit.ly/2CbFTLv</td>\n",
       "    </tr>\n",
       "    <tr>\n",
       "      <th>25216</th>\n",
       "      <td>http://beautyatjessicas.com.au/wp-content/uplo...</td>\n",
       "    </tr>\n",
       "    <tr>\n",
       "      <th>25217</th>\n",
       "      <td>http://www.la-taverne-des-aventuriers.com/t457...</td>\n",
       "    </tr>\n",
       "  </tbody>\n",
       "</table>\n",
       "<p>25218 rows × 1 columns</p>\n",
       "</div>"
      ],
      "text/plain": [
       "                        http://www.skofija-novomesto.si/\n",
       "0      http://ferlafashion.com/saint/www.loginalibaba...\n",
       "1                               http://spatrendonline.hu\n",
       "2                               http://defensasur.com.ar\n",
       "3                     http://www.digitalvd.de/dvds/37399\n",
       "4      http://tradewfx.com/service/admin/1drive/onedr...\n",
       "...                                                  ...\n",
       "25213                               http://mohaseban.org\n",
       "25214                          https://www.la-croix.com/\n",
       "25215                              http://bit.ly/2CbFTLv\n",
       "25216  http://beautyatjessicas.com.au/wp-content/uplo...\n",
       "25217  http://www.la-taverne-des-aventuriers.com/t457...\n",
       "\n",
       "[25218 rows x 1 columns]"
      ]
     },
     "execution_count": 3,
     "metadata": {},
     "output_type": "execute_result"
    }
   ],
   "source": [
    "te"
   ]
  },
  {
   "cell_type": "code",
   "execution_count": 4,
   "id": "144869f9",
   "metadata": {},
   "outputs": [],
   "source": [
    "df=pd.read_csv(\"datathon.csv\")"
   ]
  },
  {
   "cell_type": "code",
   "execution_count": 5,
   "id": "11e12c99",
   "metadata": {},
   "outputs": [
    {
     "data": {
      "text/html": [
       "<div>\n",
       "<style scoped>\n",
       "    .dataframe tbody tr th:only-of-type {\n",
       "        vertical-align: middle;\n",
       "    }\n",
       "\n",
       "    .dataframe tbody tr th {\n",
       "        vertical-align: top;\n",
       "    }\n",
       "\n",
       "    .dataframe thead th {\n",
       "        text-align: right;\n",
       "    }\n",
       "</style>\n",
       "<table border=\"1\" class=\"dataframe\">\n",
       "  <thead>\n",
       "    <tr style=\"text-align: right;\">\n",
       "      <th></th>\n",
       "      <th>https://www.peoplescollection.wales/discover/what/70/query/Merthyr</th>\n",
       "      <th>0</th>\n",
       "    </tr>\n",
       "  </thead>\n",
       "  <tbody>\n",
       "    <tr>\n",
       "      <th>0</th>\n",
       "      <td>http://yasli-sad.ru/css/chase/chaseall%20newin...</td>\n",
       "      <td>1</td>\n",
       "    </tr>\n",
       "    <tr>\n",
       "      <th>1</th>\n",
       "      <td>http://denizkent.net/wp-admin/js/login.alibaba...</td>\n",
       "      <td>1</td>\n",
       "    </tr>\n",
       "    <tr>\n",
       "      <th>2</th>\n",
       "      <td>http://www.marketbiz.net/mbz/wp-includes/js/jq...</td>\n",
       "      <td>1</td>\n",
       "    </tr>\n",
       "    <tr>\n",
       "      <th>3</th>\n",
       "      <td>http://guardiaoitau30horas.uniclassdispositivo...</td>\n",
       "      <td>1</td>\n",
       "    </tr>\n",
       "    <tr>\n",
       "      <th>4</th>\n",
       "      <td>http://chancejumpers.com/christmas/christmas-h...</td>\n",
       "      <td>0</td>\n",
       "    </tr>\n",
       "    <tr>\n",
       "      <th>...</th>\n",
       "      <td>...</td>\n",
       "      <td>...</td>\n",
       "    </tr>\n",
       "    <tr>\n",
       "      <th>100854</th>\n",
       "      <td>http://crop-topsnn.oucreate.com/grn/</td>\n",
       "      <td>1</td>\n",
       "    </tr>\n",
       "    <tr>\n",
       "      <th>100855</th>\n",
       "      <td>http://jacksonvillenursinghomelawyers.com/Driv...</td>\n",
       "      <td>1</td>\n",
       "    </tr>\n",
       "    <tr>\n",
       "      <th>100856</th>\n",
       "      <td>http://www.smallappliance.com/product.asp?cur=...</td>\n",
       "      <td>0</td>\n",
       "    </tr>\n",
       "    <tr>\n",
       "      <th>100857</th>\n",
       "      <td>http://www.skofija-novomesto.si/</td>\n",
       "      <td>0</td>\n",
       "    </tr>\n",
       "    <tr>\n",
       "      <th>100858</th>\n",
       "      <td>http://ferlafashion.com/saint/www.loginalibaba...</td>\n",
       "      <td>1</td>\n",
       "    </tr>\n",
       "  </tbody>\n",
       "</table>\n",
       "<p>100859 rows × 2 columns</p>\n",
       "</div>"
      ],
      "text/plain": [
       "       https://www.peoplescollection.wales/discover/what/70/query/Merthyr  0\n",
       "0       http://yasli-sad.ru/css/chase/chaseall%20newin...                  1\n",
       "1       http://denizkent.net/wp-admin/js/login.alibaba...                  1\n",
       "2       http://www.marketbiz.net/mbz/wp-includes/js/jq...                  1\n",
       "3       http://guardiaoitau30horas.uniclassdispositivo...                  1\n",
       "4       http://chancejumpers.com/christmas/christmas-h...                  0\n",
       "...                                                   ...                 ..\n",
       "100854               http://crop-topsnn.oucreate.com/grn/                  1\n",
       "100855  http://jacksonvillenursinghomelawyers.com/Driv...                  1\n",
       "100856  http://www.smallappliance.com/product.asp?cur=...                  0\n",
       "100857                   http://www.skofija-novomesto.si/                  0\n",
       "100858  http://ferlafashion.com/saint/www.loginalibaba...                  1\n",
       "\n",
       "[100859 rows x 2 columns]"
      ]
     },
     "execution_count": 5,
     "metadata": {},
     "output_type": "execute_result"
    }
   ],
   "source": [
    "df"
   ]
  },
  {
   "cell_type": "code",
   "execution_count": 6,
   "id": "8913bc04",
   "metadata": {},
   "outputs": [],
   "source": [
    "te.columns=['url']"
   ]
  },
  {
   "cell_type": "code",
   "execution_count": 7,
   "id": "19f5a970",
   "metadata": {},
   "outputs": [
    {
     "data": {
      "text/plain": [
       "https://www.peoplescollection.wales/discover/what/70/query/Merthyr    0\n",
       "0                                                                     0\n",
       "dtype: int64"
      ]
     },
     "execution_count": 7,
     "metadata": {},
     "output_type": "execute_result"
    }
   ],
   "source": [
    "df.isnull().sum()"
   ]
  },
  {
   "cell_type": "code",
   "execution_count": 8,
   "id": "2e347512",
   "metadata": {},
   "outputs": [
    {
     "data": {
      "text/plain": [
       "url    0\n",
       "dtype: int64"
      ]
     },
     "execution_count": 8,
     "metadata": {},
     "output_type": "execute_result"
    }
   ],
   "source": [
    "te.isnull().sum()"
   ]
  },
  {
   "cell_type": "code",
   "execution_count": 9,
   "id": "92709632",
   "metadata": {},
   "outputs": [
    {
     "data": {
      "text/plain": [
       "100859"
      ]
     },
     "execution_count": 9,
     "metadata": {},
     "output_type": "execute_result"
    }
   ],
   "source": [
    "df.shape[0]"
   ]
  },
  {
   "cell_type": "code",
   "execution_count": 10,
   "id": "d6e3ead3",
   "metadata": {},
   "outputs": [
    {
     "data": {
      "text/plain": [
       "25218"
      ]
     },
     "execution_count": 10,
     "metadata": {},
     "output_type": "execute_result"
    }
   ],
   "source": [
    "te.shape[0]"
   ]
  },
  {
   "cell_type": "code",
   "execution_count": 11,
   "id": "82dc8eec",
   "metadata": {},
   "outputs": [
    {
     "data": {
      "text/html": [
       "<div>\n",
       "<style scoped>\n",
       "    .dataframe tbody tr th:only-of-type {\n",
       "        vertical-align: middle;\n",
       "    }\n",
       "\n",
       "    .dataframe tbody tr th {\n",
       "        vertical-align: top;\n",
       "    }\n",
       "\n",
       "    .dataframe thead th {\n",
       "        text-align: right;\n",
       "    }\n",
       "</style>\n",
       "<table border=\"1\" class=\"dataframe\">\n",
       "  <thead>\n",
       "    <tr style=\"text-align: right;\">\n",
       "      <th></th>\n",
       "      <th>url</th>\n",
       "      <th>class</th>\n",
       "    </tr>\n",
       "  </thead>\n",
       "  <tbody>\n",
       "    <tr>\n",
       "      <th>0</th>\n",
       "      <td>http://yasli-sad.ru/css/chase/chaseall%20newin...</td>\n",
       "      <td>1</td>\n",
       "    </tr>\n",
       "    <tr>\n",
       "      <th>1</th>\n",
       "      <td>http://denizkent.net/wp-admin/js/login.alibaba...</td>\n",
       "      <td>1</td>\n",
       "    </tr>\n",
       "    <tr>\n",
       "      <th>2</th>\n",
       "      <td>http://www.marketbiz.net/mbz/wp-includes/js/jq...</td>\n",
       "      <td>1</td>\n",
       "    </tr>\n",
       "    <tr>\n",
       "      <th>3</th>\n",
       "      <td>http://guardiaoitau30horas.uniclassdispositivo...</td>\n",
       "      <td>1</td>\n",
       "    </tr>\n",
       "    <tr>\n",
       "      <th>4</th>\n",
       "      <td>http://chancejumpers.com/christmas/christmas-h...</td>\n",
       "      <td>0</td>\n",
       "    </tr>\n",
       "    <tr>\n",
       "      <th>...</th>\n",
       "      <td>...</td>\n",
       "      <td>...</td>\n",
       "    </tr>\n",
       "    <tr>\n",
       "      <th>100854</th>\n",
       "      <td>http://crop-topsnn.oucreate.com/grn/</td>\n",
       "      <td>1</td>\n",
       "    </tr>\n",
       "    <tr>\n",
       "      <th>100855</th>\n",
       "      <td>http://jacksonvillenursinghomelawyers.com/Driv...</td>\n",
       "      <td>1</td>\n",
       "    </tr>\n",
       "    <tr>\n",
       "      <th>100856</th>\n",
       "      <td>http://www.smallappliance.com/product.asp?cur=...</td>\n",
       "      <td>0</td>\n",
       "    </tr>\n",
       "    <tr>\n",
       "      <th>100857</th>\n",
       "      <td>http://www.skofija-novomesto.si/</td>\n",
       "      <td>0</td>\n",
       "    </tr>\n",
       "    <tr>\n",
       "      <th>100858</th>\n",
       "      <td>http://ferlafashion.com/saint/www.loginalibaba...</td>\n",
       "      <td>1</td>\n",
       "    </tr>\n",
       "  </tbody>\n",
       "</table>\n",
       "<p>100859 rows × 2 columns</p>\n",
       "</div>"
      ],
      "text/plain": [
       "                                                      url  class\n",
       "0       http://yasli-sad.ru/css/chase/chaseall%20newin...      1\n",
       "1       http://denizkent.net/wp-admin/js/login.alibaba...      1\n",
       "2       http://www.marketbiz.net/mbz/wp-includes/js/jq...      1\n",
       "3       http://guardiaoitau30horas.uniclassdispositivo...      1\n",
       "4       http://chancejumpers.com/christmas/christmas-h...      0\n",
       "...                                                   ...    ...\n",
       "100854               http://crop-topsnn.oucreate.com/grn/      1\n",
       "100855  http://jacksonvillenursinghomelawyers.com/Driv...      1\n",
       "100856  http://www.smallappliance.com/product.asp?cur=...      0\n",
       "100857                   http://www.skofija-novomesto.si/      0\n",
       "100858  http://ferlafashion.com/saint/www.loginalibaba...      1\n",
       "\n",
       "[100859 rows x 2 columns]"
      ]
     },
     "execution_count": 11,
     "metadata": {},
     "output_type": "execute_result"
    }
   ],
   "source": [
    "df.columns=['url','class']\n",
    "df"
   ]
  },
  {
   "cell_type": "markdown",
   "id": "5025e00a",
   "metadata": {},
   "source": [
    "# finding duplicates"
   ]
  },
  {
   "cell_type": "code",
   "execution_count": 12,
   "id": "e6a6e678",
   "metadata": {},
   "outputs": [
    {
     "data": {
      "text/plain": [
       "153"
      ]
     },
     "execution_count": 12,
     "metadata": {},
     "output_type": "execute_result"
    }
   ],
   "source": [
    "df['url'].duplicated().sum()\n",
    "#duplicate dropping in important because urls or unique from each other\n"
   ]
  },
  {
   "cell_type": "code",
   "execution_count": null,
   "id": "946ba480",
   "metadata": {},
   "outputs": [],
   "source": []
  },
  {
   "cell_type": "markdown",
   "id": "78d1f555",
   "metadata": {},
   "source": [
    "# droping duplicated urls from dataset"
   ]
  },
  {
   "cell_type": "code",
   "execution_count": 13,
   "id": "65911490",
   "metadata": {},
   "outputs": [],
   "source": [
    "m=df.drop_duplicates('url')"
   ]
  },
  {
   "cell_type": "code",
   "execution_count": 14,
   "id": "8b4aefb8",
   "metadata": {},
   "outputs": [
    {
     "data": {
      "text/plain": [
       "0"
      ]
     },
     "execution_count": 14,
     "metadata": {},
     "output_type": "execute_result"
    }
   ],
   "source": [
    "m['url'].duplicated().sum()"
   ]
  },
  {
   "cell_type": "code",
   "execution_count": 15,
   "id": "97fa52bd",
   "metadata": {},
   "outputs": [
    {
     "data": {
      "text/plain": [
       "100706"
      ]
     },
     "execution_count": 15,
     "metadata": {},
     "output_type": "execute_result"
    }
   ],
   "source": [
    "m.shape[0]"
   ]
  },
  {
   "cell_type": "markdown",
   "id": "9d82c328",
   "metadata": {},
   "source": [
    "# tokenizer"
   ]
  },
  {
   "cell_type": "code",
   "execution_count": 16,
   "id": "d2515fd8",
   "metadata": {},
   "outputs": [],
   "source": [
    "b=m"
   ]
  },
  {
   "cell_type": "code",
   "execution_count": 17,
   "id": "7655a5cc",
   "metadata": {},
   "outputs": [],
   "source": [
    "t=te"
   ]
  },
  {
   "cell_type": "code",
   "execution_count": 18,
   "id": "34dc6127",
   "metadata": {},
   "outputs": [],
   "source": [
    "from sklearn.model_selection import train_test_split # spliting the data between feature and target\n",
    "from sklearn.metrics import classification_report # gives whole report about metrics (e.g, recall,precision,f1_score,c_m)\n",
    "from sklearn.metrics import confusion_matrix # gives info about actual and predict\n",
    "from nltk.tokenize import RegexpTokenizer # regexp tokenizers use to split words from text  \n"
   ]
  },
  {
   "cell_type": "code",
   "execution_count": 19,
   "id": "651dd9b6",
   "metadata": {},
   "outputs": [],
   "source": [
    "import nltk\n",
    "import re"
   ]
  },
  {
   "cell_type": "code",
   "execution_count": 20,
   "id": "b8229d25",
   "metadata": {},
   "outputs": [],
   "source": [
    "from nltk.tokenize import word_tokenize"
   ]
  },
  {
   "cell_type": "code",
   "execution_count": 21,
   "id": "fb6d55e8",
   "metadata": {},
   "outputs": [
    {
     "name": "stderr",
     "output_type": "stream",
     "text": [
      "C:\\Users\\V BHAVANI PRASAD\\anaconda3\\lib\\site-packages\\pandas\\core\\indexing.py:1773: SettingWithCopyWarning: \n",
      "A value is trying to be set on a copy of a slice from a DataFrame.\n",
      "Try using .loc[row_indexer,col_indexer] = value instead\n",
      "\n",
      "See the caveats in the documentation: https://pandas.pydata.org/pandas-docs/stable/user_guide/indexing.html#returning-a-view-versus-a-copy\n",
      "  self._setitem_single_column(ilocs[0], value, pi)\n"
     ]
    }
   ],
   "source": [
    "b.iloc[:,0] = b.iloc[:,0].astype('str')"
   ]
  },
  {
   "cell_type": "code",
   "execution_count": 22,
   "id": "fa9d6822",
   "metadata": {},
   "outputs": [],
   "source": [
    "t.iloc[:,0] = t.iloc[:,0].astype('str')"
   ]
  },
  {
   "cell_type": "code",
   "execution_count": 23,
   "id": "d33106ee",
   "metadata": {},
   "outputs": [],
   "source": [
    "b.iloc[:,0] = b.iloc[:,0].apply(lambda url : url.replace(\"/\",\" \"))"
   ]
  },
  {
   "cell_type": "code",
   "execution_count": 24,
   "id": "b1fff9ba",
   "metadata": {},
   "outputs": [],
   "source": [
    "t.iloc[:,0] = t.iloc[:,0].apply(lambda url : url.replace(\"/\",\" \"))"
   ]
  },
  {
   "cell_type": "code",
   "execution_count": 25,
   "id": "d161dde1",
   "metadata": {},
   "outputs": [],
   "source": [
    "b.iloc[:,0] = b.iloc[:,0].apply(lambda url : url.replace(\".\",\" \"))"
   ]
  },
  {
   "cell_type": "code",
   "execution_count": 26,
   "id": "ed9dc843",
   "metadata": {},
   "outputs": [],
   "source": [
    "t.iloc[:,0] = t.iloc[:,0].apply(lambda url : url.replace(\".\",\" \"))"
   ]
  },
  {
   "cell_type": "code",
   "execution_count": 27,
   "id": "e482fcff",
   "metadata": {},
   "outputs": [
    {
     "data": {
      "text/plain": [
       "0         http:  yasli-sad ru css chase chaseall%20newin...\n",
       "1         http:  denizkent net wp-admin js login alibaba...\n",
       "2         http:  www marketbiz net mbz wp-includes js jq...\n",
       "3         http:  guardiaoitau30horas uniclassdispositivo...\n",
       "4         http:  chancejumpers com christmas christmas-h...\n",
       "                                ...                        \n",
       "100854                 http:  crop-topsnn oucreate com grn \n",
       "100855    http:  jacksonvillenursinghomelawyers com Driv...\n",
       "100856    http:  www smallappliance com product asp?cur=...\n",
       "100857                     http:  www skofija-novomesto si \n",
       "100858    http:  ferlafashion com saint www loginalibaba...\n",
       "Name: url, Length: 100706, dtype: object"
      ]
     },
     "execution_count": 27,
     "metadata": {},
     "output_type": "execute_result"
    }
   ],
   "source": [
    "b.iloc[:,0]"
   ]
  },
  {
   "cell_type": "code",
   "execution_count": 28,
   "id": "c934528f",
   "metadata": {},
   "outputs": [
    {
     "data": {
      "text/plain": [
       "0        http:  ferlafashion com saint www loginalibaba...\n",
       "1                                 http:  spatrendonline hu\n",
       "2                                 http:  defensasur com ar\n",
       "3                       http:  www digitalvd de dvds 37399\n",
       "4        http:  tradewfx com service admin 1drive onedr...\n",
       "                               ...                        \n",
       "25213                                 http:  mohaseban org\n",
       "25214                            https:  www la-croix com \n",
       "25215                                http:  bit ly 2CbFTLv\n",
       "25216    http:  beautyatjessicas com au wp-content uplo...\n",
       "25217    http:  www la-taverne-des-aventuriers com t457...\n",
       "Name: url, Length: 25218, dtype: object"
      ]
     },
     "execution_count": 28,
     "metadata": {},
     "output_type": "execute_result"
    }
   ],
   "source": [
    "t.iloc[:,0]"
   ]
  },
  {
   "cell_type": "code",
   "execution_count": 29,
   "id": "607d6ab2",
   "metadata": {},
   "outputs": [],
   "source": [
    "b.iloc[:,0] = b.iloc[:,0].apply(lambda url : url.replace(\".\",\" \"))"
   ]
  },
  {
   "cell_type": "code",
   "execution_count": 30,
   "id": "eb309dc6",
   "metadata": {},
   "outputs": [],
   "source": [
    "t.iloc[:,0] = t.iloc[:,0].apply(lambda url : url.replace(\".\",\" \"))"
   ]
  },
  {
   "cell_type": "code",
   "execution_count": 31,
   "id": "94aa6f80",
   "metadata": {},
   "outputs": [],
   "source": [
    "b.iloc[:,0] = b.iloc[:,0].apply(lambda url : url.replace(\":\",\" \"))"
   ]
  },
  {
   "cell_type": "code",
   "execution_count": 32,
   "id": "a183eb63",
   "metadata": {},
   "outputs": [],
   "source": [
    "t.iloc[:,0] = t.iloc[:,0].apply(lambda url : url.replace(\":\",\" \"))"
   ]
  },
  {
   "cell_type": "code",
   "execution_count": 33,
   "id": "dcd7b352",
   "metadata": {},
   "outputs": [
    {
     "name": "stderr",
     "output_type": "stream",
     "text": [
      "C:\\Users\\VBHAVA~1\\AppData\\Local\\Temp/ipykernel_18836/1205193613.py:1: SettingWithCopyWarning: \n",
      "A value is trying to be set on a copy of a slice from a DataFrame.\n",
      "Try using .loc[row_indexer,col_indexer] = value instead\n",
      "\n",
      "See the caveats in the documentation: https://pandas.pydata.org/pandas-docs/stable/user_guide/indexing.html#returning-a-view-versus-a-copy\n",
      "  b['url']=b.iloc[:,0]\n"
     ]
    }
   ],
   "source": [
    "b['url']=b.iloc[:,0]"
   ]
  },
  {
   "cell_type": "code",
   "execution_count": 34,
   "id": "552c0937",
   "metadata": {},
   "outputs": [],
   "source": [
    "t['url']=t.iloc[:,0]"
   ]
  },
  {
   "cell_type": "code",
   "execution_count": 35,
   "id": "8ebc9bbb",
   "metadata": {},
   "outputs": [
    {
     "data": {
      "text/html": [
       "<div>\n",
       "<style scoped>\n",
       "    .dataframe tbody tr th:only-of-type {\n",
       "        vertical-align: middle;\n",
       "    }\n",
       "\n",
       "    .dataframe tbody tr th {\n",
       "        vertical-align: top;\n",
       "    }\n",
       "\n",
       "    .dataframe thead th {\n",
       "        text-align: right;\n",
       "    }\n",
       "</style>\n",
       "<table border=\"1\" class=\"dataframe\">\n",
       "  <thead>\n",
       "    <tr style=\"text-align: right;\">\n",
       "      <th></th>\n",
       "      <th>url</th>\n",
       "      <th>class</th>\n",
       "    </tr>\n",
       "  </thead>\n",
       "  <tbody>\n",
       "    <tr>\n",
       "      <th>0</th>\n",
       "      <td>http   yasli-sad ru css chase chaseall%20newin...</td>\n",
       "      <td>1</td>\n",
       "    </tr>\n",
       "    <tr>\n",
       "      <th>1</th>\n",
       "      <td>http   denizkent net wp-admin js login alibaba...</td>\n",
       "      <td>1</td>\n",
       "    </tr>\n",
       "    <tr>\n",
       "      <th>2</th>\n",
       "      <td>http   www marketbiz net mbz wp-includes js jq...</td>\n",
       "      <td>1</td>\n",
       "    </tr>\n",
       "    <tr>\n",
       "      <th>3</th>\n",
       "      <td>http   guardiaoitau30horas uniclassdispositivo...</td>\n",
       "      <td>1</td>\n",
       "    </tr>\n",
       "    <tr>\n",
       "      <th>4</th>\n",
       "      <td>http   chancejumpers com christmas christmas-h...</td>\n",
       "      <td>0</td>\n",
       "    </tr>\n",
       "    <tr>\n",
       "      <th>...</th>\n",
       "      <td>...</td>\n",
       "      <td>...</td>\n",
       "    </tr>\n",
       "    <tr>\n",
       "      <th>100854</th>\n",
       "      <td>http   crop-topsnn oucreate com grn</td>\n",
       "      <td>1</td>\n",
       "    </tr>\n",
       "    <tr>\n",
       "      <th>100855</th>\n",
       "      <td>http   jacksonvillenursinghomelawyers com Driv...</td>\n",
       "      <td>1</td>\n",
       "    </tr>\n",
       "    <tr>\n",
       "      <th>100856</th>\n",
       "      <td>http   www smallappliance com product asp?cur=...</td>\n",
       "      <td>0</td>\n",
       "    </tr>\n",
       "    <tr>\n",
       "      <th>100857</th>\n",
       "      <td>http   www skofija-novomesto si</td>\n",
       "      <td>0</td>\n",
       "    </tr>\n",
       "    <tr>\n",
       "      <th>100858</th>\n",
       "      <td>http   ferlafashion com saint www loginalibaba...</td>\n",
       "      <td>1</td>\n",
       "    </tr>\n",
       "  </tbody>\n",
       "</table>\n",
       "<p>100706 rows × 2 columns</p>\n",
       "</div>"
      ],
      "text/plain": [
       "                                                      url  class\n",
       "0       http   yasli-sad ru css chase chaseall%20newin...      1\n",
       "1       http   denizkent net wp-admin js login alibaba...      1\n",
       "2       http   www marketbiz net mbz wp-includes js jq...      1\n",
       "3       http   guardiaoitau30horas uniclassdispositivo...      1\n",
       "4       http   chancejumpers com christmas christmas-h...      0\n",
       "...                                                   ...    ...\n",
       "100854               http   crop-topsnn oucreate com grn       1\n",
       "100855  http   jacksonvillenursinghomelawyers com Driv...      1\n",
       "100856  http   www smallappliance com product asp?cur=...      0\n",
       "100857                   http   www skofija-novomesto si       0\n",
       "100858  http   ferlafashion com saint www loginalibaba...      1\n",
       "\n",
       "[100706 rows x 2 columns]"
      ]
     },
     "execution_count": 35,
     "metadata": {},
     "output_type": "execute_result"
    }
   ],
   "source": [
    "b"
   ]
  },
  {
   "cell_type": "code",
   "execution_count": 36,
   "id": "2446d97c",
   "metadata": {},
   "outputs": [
    {
     "data": {
      "text/html": [
       "<div>\n",
       "<style scoped>\n",
       "    .dataframe tbody tr th:only-of-type {\n",
       "        vertical-align: middle;\n",
       "    }\n",
       "\n",
       "    .dataframe tbody tr th {\n",
       "        vertical-align: top;\n",
       "    }\n",
       "\n",
       "    .dataframe thead th {\n",
       "        text-align: right;\n",
       "    }\n",
       "</style>\n",
       "<table border=\"1\" class=\"dataframe\">\n",
       "  <thead>\n",
       "    <tr style=\"text-align: right;\">\n",
       "      <th></th>\n",
       "      <th>url</th>\n",
       "    </tr>\n",
       "  </thead>\n",
       "  <tbody>\n",
       "    <tr>\n",
       "      <th>0</th>\n",
       "      <td>http   ferlafashion com saint www loginalibaba...</td>\n",
       "    </tr>\n",
       "    <tr>\n",
       "      <th>1</th>\n",
       "      <td>http   spatrendonline hu</td>\n",
       "    </tr>\n",
       "    <tr>\n",
       "      <th>2</th>\n",
       "      <td>http   defensasur com ar</td>\n",
       "    </tr>\n",
       "    <tr>\n",
       "      <th>3</th>\n",
       "      <td>http   www digitalvd de dvds 37399</td>\n",
       "    </tr>\n",
       "    <tr>\n",
       "      <th>4</th>\n",
       "      <td>http   tradewfx com service admin 1drive onedr...</td>\n",
       "    </tr>\n",
       "    <tr>\n",
       "      <th>...</th>\n",
       "      <td>...</td>\n",
       "    </tr>\n",
       "    <tr>\n",
       "      <th>25213</th>\n",
       "      <td>http   mohaseban org</td>\n",
       "    </tr>\n",
       "    <tr>\n",
       "      <th>25214</th>\n",
       "      <td>https   www la-croix com</td>\n",
       "    </tr>\n",
       "    <tr>\n",
       "      <th>25215</th>\n",
       "      <td>http   bit ly 2CbFTLv</td>\n",
       "    </tr>\n",
       "    <tr>\n",
       "      <th>25216</th>\n",
       "      <td>http   beautyatjessicas com au wp-content uplo...</td>\n",
       "    </tr>\n",
       "    <tr>\n",
       "      <th>25217</th>\n",
       "      <td>http   www la-taverne-des-aventuriers com t457...</td>\n",
       "    </tr>\n",
       "  </tbody>\n",
       "</table>\n",
       "<p>25218 rows × 1 columns</p>\n",
       "</div>"
      ],
      "text/plain": [
       "                                                     url\n",
       "0      http   ferlafashion com saint www loginalibaba...\n",
       "1                               http   spatrendonline hu\n",
       "2                               http   defensasur com ar\n",
       "3                     http   www digitalvd de dvds 37399\n",
       "4      http   tradewfx com service admin 1drive onedr...\n",
       "...                                                  ...\n",
       "25213                               http   mohaseban org\n",
       "25214                          https   www la-croix com \n",
       "25215                              http   bit ly 2CbFTLv\n",
       "25216  http   beautyatjessicas com au wp-content uplo...\n",
       "25217  http   www la-taverne-des-aventuriers com t457...\n",
       "\n",
       "[25218 rows x 1 columns]"
      ]
     },
     "execution_count": 36,
     "metadata": {},
     "output_type": "execute_result"
    }
   ],
   "source": [
    "t"
   ]
  },
  {
   "cell_type": "markdown",
   "id": "537d549b",
   "metadata": {},
   "source": [
    "# CountVectorizer"
   ]
  },
  {
   "cell_type": "code",
   "execution_count": 37,
   "id": "54a00561",
   "metadata": {},
   "outputs": [],
   "source": [
    "# Machine Learning Packages\n",
    "from sklearn.feature_extraction.text import CountVectorizer\n",
    "from sklearn.feature_extraction.text import TfidfVectorizer\n",
    "from sklearn.linear_model import LogisticRegression\n",
    "from sklearn.model_selection import train_test_split"
   ]
  },
  {
   "cell_type": "code",
   "execution_count": 38,
   "id": "35cefcc6",
   "metadata": {},
   "outputs": [],
   "source": [
    "#label\n",
    "h=b['class']\n",
    "url_list=b['url']"
   ]
  },
  {
   "cell_type": "code",
   "execution_count": 39,
   "id": "8a6d5fa6",
   "metadata": {},
   "outputs": [],
   "source": [
    "xt=t['url']\n"
   ]
  },
  {
   "cell_type": "code",
   "execution_count": 40,
   "id": "9ac32489",
   "metadata": {},
   "outputs": [],
   "source": [
    "\n",
    "vectorizer = TfidfVectorizer()\n"
   ]
  },
  {
   "cell_type": "code",
   "execution_count": 41,
   "id": "7491fefa",
   "metadata": {},
   "outputs": [
    {
     "data": {
      "text/plain": [
       "TfidfVectorizer()"
      ]
     },
     "execution_count": 41,
     "metadata": {},
     "output_type": "execute_result"
    }
   ],
   "source": [
    "vectorizer"
   ]
  },
  {
   "cell_type": "code",
   "execution_count": 82,
   "id": "8b2d9736",
   "metadata": {},
   "outputs": [],
   "source": [
    "X = vectorizer.fit_transform(url_list)"
   ]
  },
  {
   "cell_type": "code",
   "execution_count": 43,
   "id": "bdaf41b7",
   "metadata": {},
   "outputs": [],
   "source": [
    "Y= vectorizer.transform(xt)"
   ]
  },
  {
   "cell_type": "code",
   "execution_count": 44,
   "id": "72d537a2",
   "metadata": {},
   "outputs": [
    {
     "data": {
      "text/plain": [
       "0        http   ferlafashion com saint www loginalibaba...\n",
       "1                                 http   spatrendonline hu\n",
       "2                                 http   defensasur com ar\n",
       "3                       http   www digitalvd de dvds 37399\n",
       "4        http   tradewfx com service admin 1drive onedr...\n",
       "                               ...                        \n",
       "25213                                 http   mohaseban org\n",
       "25214                            https   www la-croix com \n",
       "25215                                http   bit ly 2CbFTLv\n",
       "25216    http   beautyatjessicas com au wp-content uplo...\n",
       "25217    http   www la-taverne-des-aventuriers com t457...\n",
       "Name: url, Length: 25218, dtype: object"
      ]
     },
     "execution_count": 44,
     "metadata": {},
     "output_type": "execute_result"
    }
   ],
   "source": [
    "xt"
   ]
  },
  {
   "cell_type": "code",
   "execution_count": 45,
   "id": "c94cee8f",
   "metadata": {},
   "outputs": [
    {
     "data": {
      "text/plain": [
       "0         http   yasli-sad ru css chase chaseall%20newin...\n",
       "1         http   denizkent net wp-admin js login alibaba...\n",
       "2         http   www marketbiz net mbz wp-includes js jq...\n",
       "3         http   guardiaoitau30horas uniclassdispositivo...\n",
       "4         http   chancejumpers com christmas christmas-h...\n",
       "                                ...                        \n",
       "100854                 http   crop-topsnn oucreate com grn \n",
       "100855    http   jacksonvillenursinghomelawyers com Driv...\n",
       "100856    http   www smallappliance com product asp?cur=...\n",
       "100857                     http   www skofija-novomesto si \n",
       "100858    http   ferlafashion com saint www loginalibaba...\n",
       "Name: url, Length: 100706, dtype: object"
      ]
     },
     "execution_count": 45,
     "metadata": {},
     "output_type": "execute_result"
    }
   ],
   "source": [
    "url_list"
   ]
  },
  {
   "cell_type": "code",
   "execution_count": 46,
   "id": "6ae72b39",
   "metadata": {
    "scrolled": true
   },
   "outputs": [
    {
     "name": "stdout",
     "output_type": "stream",
     "text": [
      "  (0, 167831)\t0.3168109209447769\n",
      "  (0, 166991)\t0.1250474150642315\n",
      "  (0, 136569)\t0.26953005719369794\n",
      "  (0, 123436)\t0.09384733020866658\n",
      "  (0, 100925)\t0.5074232964249369\n",
      "  (0, 100899)\t0.13282703262069717\n",
      "  (0, 84467)\t0.04281605114541025\n",
      "  (0, 71102)\t0.32086284238265156\n",
      "  (0, 65830)\t0.15713774127821648\n",
      "  (0, 52326)\t0.23587236049164192\n",
      "  (0, 30715)\t0.5620682163535009\n",
      "  (0, 27567)\t0.16243118856269287\n",
      "  (1, 84492)\t0.977839431236321\n",
      "  (1, 84467)\t0.20935626744721106\n",
      "  (2, 84467)\t0.1958365497486285\n",
      "  (2, 52326)\t0.21577155306952941\n",
      "  (2, 33824)\t0.956603722901242\n",
      "  (3, 166991)\t0.12003702310268191\n",
      "  (3, 84467)\t0.08220100060232789\n",
      "  (3, 63064)\t0.665374093550872\n",
      "  (3, 59916)\t0.6889952751707216\n",
      "  (3, 57749)\t0.2477840491403746\n",
      "  (4, 139825)\t0.528392020233445\n",
      "  (4, 123436)\t0.24675036167065403\n",
      "  (4, 117660)\t0.5949761108295617\n",
      "  :\t:\n",
      "  (25213, 84467)\t0.3341583127762618\n",
      "  (25214, 166991)\t0.15116105471825714\n",
      "  (25214, 97186)\t0.4887422651277825\n",
      "  (25214, 84475)\t0.15232300184652564\n",
      "  (25214, 55026)\t0.8378969018360046\n",
      "  (25214, 52326)\t0.11405182513364949\n",
      "  (25215, 102163)\t0.6864818907392852\n",
      "  (25215, 84467)\t0.14655845415995158\n",
      "  (25215, 41487)\t0.7122241453371695\n",
      "  (25216, 166606)\t0.22019745062816115\n",
      "  (25216, 158794)\t0.36356793947651644\n",
      "  (25216, 141682)\t0.3238726267172245\n",
      "  (25216, 84467)\t0.07198596437257081\n",
      "  (25216, 53559)\t0.2640941581575196\n",
      "  (25216, 52326)\t0.0793137100904536\n",
      "  (25216, 39479)\t0.6033745206004778\n",
      "  (25216, 35830)\t0.2741269487771065\n",
      "  (25216, 7237)\t0.3177572378548701\n",
      "  (25216, 1335)\t0.30503037778587594\n",
      "  (25217, 166991)\t0.1496257571480845\n",
      "  (25217, 98961)\t0.6006510710147074\n",
      "  (25217, 97186)\t0.4837782562864184\n",
      "  (25217, 84467)\t0.10246327870803938\n",
      "  (25217, 58784)\t0.5996210230677841\n",
      "  (25217, 52326)\t0.1128934348966416\n"
     ]
    }
   ],
   "source": [
    "print(Y)"
   ]
  },
  {
   "cell_type": "code",
   "execution_count": 48,
   "id": "c9a0aac7",
   "metadata": {},
   "outputs": [],
   "source": [
    "vectorizer = CountVectorizer()"
   ]
  },
  {
   "cell_type": "code",
   "execution_count": 49,
   "id": "45325dcd",
   "metadata": {},
   "outputs": [
    {
     "data": {
      "text/plain": [
       "CountVectorizer()"
      ]
     },
     "execution_count": 49,
     "metadata": {},
     "output_type": "execute_result"
    }
   ],
   "source": [
    "vectorizer"
   ]
  },
  {
   "cell_type": "code",
   "execution_count": 50,
   "id": "c0c5ac82",
   "metadata": {},
   "outputs": [],
   "source": [
    "x = vectorizer.fit_transform(url_list)"
   ]
  },
  {
   "cell_type": "code",
   "execution_count": 51,
   "id": "03ad148f",
   "metadata": {},
   "outputs": [],
   "source": [
    "y=vectorizer.transform(xt)"
   ]
  },
  {
   "cell_type": "code",
   "execution_count": null,
   "id": "375a0af3",
   "metadata": {},
   "outputs": [],
   "source": [
    "print(x.shape)"
   ]
  },
  {
   "cell_type": "code",
   "execution_count": 53,
   "id": "7f289dde",
   "metadata": {},
   "outputs": [
    {
     "name": "stdout",
     "output_type": "stream",
     "text": [
      "(25218, 170805)\n"
     ]
    }
   ],
   "source": [
    "print(y.shape)"
   ]
  },
  {
   "cell_type": "code",
   "execution_count": 54,
   "id": "8e5995f3",
   "metadata": {},
   "outputs": [
    {
     "name": "stdout",
     "output_type": "stream",
     "text": [
      "(100706, 170805)\n",
      "(25218, 170805)\n"
     ]
    }
   ],
   "source": [
    "print(x.shape)\n",
    "print(y.shape)"
   ]
  },
  {
   "cell_type": "markdown",
   "id": "7ca34117",
   "metadata": {},
   "source": [
    "# using logistic regression"
   ]
  },
  {
   "cell_type": "code",
   "execution_count": 55,
   "id": "a620dcc1",
   "metadata": {},
   "outputs": [
    {
     "name": "stderr",
     "output_type": "stream",
     "text": [
      "C:\\Users\\V BHAVANI PRASAD\\anaconda3\\lib\\site-packages\\sklearn\\linear_model\\_logistic.py:763: ConvergenceWarning: lbfgs failed to converge (status=1):\n",
      "STOP: TOTAL NO. of ITERATIONS REACHED LIMIT.\n",
      "\n",
      "Increase the number of iterations (max_iter) or scale the data as shown in:\n",
      "    https://scikit-learn.org/stable/modules/preprocessing.html\n",
      "Please also refer to the documentation for alternative solver options:\n",
      "    https://scikit-learn.org/stable/modules/linear_model.html#logistic-regression\n",
      "  n_iter_i = _check_optimize_result(\n"
     ]
    },
    {
     "data": {
      "text/plain": [
       "LogisticRegression()"
      ]
     },
     "execution_count": 55,
     "metadata": {},
     "output_type": "execute_result"
    }
   ],
   "source": [
    "#Model Building\n",
    "#using logistic regression\n",
    "logit = LogisticRegression()\n",
    "logit.fit(x,h)"
   ]
  },
  {
   "cell_type": "code",
   "execution_count": 56,
   "id": "d951935c",
   "metadata": {},
   "outputs": [],
   "source": [
    "z=logit.predict(y)"
   ]
  },
  {
   "cell_type": "code",
   "execution_count": 57,
   "id": "17005eaf",
   "metadata": {},
   "outputs": [
    {
     "data": {
      "text/html": [
       "<div>\n",
       "<style scoped>\n",
       "    .dataframe tbody tr th:only-of-type {\n",
       "        vertical-align: middle;\n",
       "    }\n",
       "\n",
       "    .dataframe tbody tr th {\n",
       "        vertical-align: top;\n",
       "    }\n",
       "\n",
       "    .dataframe thead th {\n",
       "        text-align: right;\n",
       "    }\n",
       "</style>\n",
       "<table border=\"1\" class=\"dataframe\">\n",
       "  <thead>\n",
       "    <tr style=\"text-align: right;\">\n",
       "      <th></th>\n",
       "      <th>0</th>\n",
       "    </tr>\n",
       "  </thead>\n",
       "  <tbody>\n",
       "    <tr>\n",
       "      <th>0</th>\n",
       "      <td>1</td>\n",
       "    </tr>\n",
       "    <tr>\n",
       "      <th>1</th>\n",
       "      <td>0</td>\n",
       "    </tr>\n",
       "    <tr>\n",
       "      <th>2</th>\n",
       "      <td>0</td>\n",
       "    </tr>\n",
       "    <tr>\n",
       "      <th>3</th>\n",
       "      <td>0</td>\n",
       "    </tr>\n",
       "    <tr>\n",
       "      <th>4</th>\n",
       "      <td>1</td>\n",
       "    </tr>\n",
       "    <tr>\n",
       "      <th>...</th>\n",
       "      <td>...</td>\n",
       "    </tr>\n",
       "    <tr>\n",
       "      <th>25213</th>\n",
       "      <td>0</td>\n",
       "    </tr>\n",
       "    <tr>\n",
       "      <th>25214</th>\n",
       "      <td>0</td>\n",
       "    </tr>\n",
       "    <tr>\n",
       "      <th>25215</th>\n",
       "      <td>1</td>\n",
       "    </tr>\n",
       "    <tr>\n",
       "      <th>25216</th>\n",
       "      <td>1</td>\n",
       "    </tr>\n",
       "    <tr>\n",
       "      <th>25217</th>\n",
       "      <td>0</td>\n",
       "    </tr>\n",
       "  </tbody>\n",
       "</table>\n",
       "<p>25218 rows × 1 columns</p>\n",
       "</div>"
      ],
      "text/plain": [
       "       0\n",
       "0      1\n",
       "1      0\n",
       "2      0\n",
       "3      0\n",
       "4      1\n",
       "...   ..\n",
       "25213  0\n",
       "25214  0\n",
       "25215  1\n",
       "25216  1\n",
       "25217  0\n",
       "\n",
       "[25218 rows x 1 columns]"
      ]
     },
     "execution_count": 57,
     "metadata": {},
     "output_type": "execute_result"
    }
   ],
   "source": [
    "df1=pd.DataFrame(z)\n",
    "df1"
   ]
  },
  {
   "cell_type": "code",
   "execution_count": 58,
   "id": "886a5a72",
   "metadata": {},
   "outputs": [],
   "source": [
    "df1.to_csv('prasad',index=False)"
   ]
  },
  {
   "cell_type": "code",
   "execution_count": 59,
   "id": "4cad471b",
   "metadata": {},
   "outputs": [
    {
     "data": {
      "text/plain": [
       "(25218, 1)"
      ]
     },
     "execution_count": 59,
     "metadata": {},
     "output_type": "execute_result"
    }
   ],
   "source": [
    "df1.shape"
   ]
  },
  {
   "cell_type": "markdown",
   "id": "d6e10a53",
   "metadata": {},
   "source": [
    "# DecisionTreeClassifier"
   ]
  },
  {
   "cell_type": "code",
   "execution_count": 60,
   "id": "02f9a362",
   "metadata": {},
   "outputs": [],
   "source": [
    "from sklearn.tree import DecisionTreeClassifier"
   ]
  },
  {
   "cell_type": "code",
   "execution_count": 61,
   "id": "2022cd62",
   "metadata": {},
   "outputs": [],
   "source": [
    "dtree = DecisionTreeClassifier()"
   ]
  },
  {
   "cell_type": "code",
   "execution_count": 62,
   "id": "90b756e9",
   "metadata": {},
   "outputs": [
    {
     "data": {
      "text/plain": [
       "DecisionTreeClassifier()"
      ]
     },
     "execution_count": 62,
     "metadata": {},
     "output_type": "execute_result"
    }
   ],
   "source": [
    "dtree"
   ]
  },
  {
   "cell_type": "code",
   "execution_count": 63,
   "id": "08e7a544",
   "metadata": {},
   "outputs": [],
   "source": [
    "dtree = dtree.fit(x,h)"
   ]
  },
  {
   "cell_type": "code",
   "execution_count": 64,
   "id": "4b1c69f5",
   "metadata": {},
   "outputs": [],
   "source": [
    "q=dtree.predict(y)"
   ]
  },
  {
   "cell_type": "code",
   "execution_count": null,
   "id": "e8108590",
   "metadata": {},
   "outputs": [],
   "source": [
    "df2=pd.DataFrame(q)\n",
    "df2"
   ]
  },
  {
   "cell_type": "code",
   "execution_count": 91,
   "id": "c33d51bc",
   "metadata": {},
   "outputs": [],
   "source": [
    "df2.to_csv('prasad1',index=False)"
   ]
  },
  {
   "cell_type": "markdown",
   "id": "cf7f49c3",
   "metadata": {},
   "source": [
    "# MultinomialNB"
   ]
  },
  {
   "cell_type": "code",
   "execution_count": 92,
   "id": "8d6ebc39",
   "metadata": {},
   "outputs": [],
   "source": [
    "from sklearn.naive_bayes import MultinomialNB"
   ]
  },
  {
   "cell_type": "code",
   "execution_count": 93,
   "id": "f3dd45f3",
   "metadata": {},
   "outputs": [],
   "source": [
    "clf = MultinomialNB()"
   ]
  },
  {
   "cell_type": "code",
   "execution_count": 94,
   "id": "ea6251d8",
   "metadata": {},
   "outputs": [
    {
     "data": {
      "text/plain": [
       "MultinomialNB()"
      ]
     },
     "execution_count": 94,
     "metadata": {},
     "output_type": "execute_result"
    }
   ],
   "source": [
    "clf.fit(x,h)"
   ]
  },
  {
   "cell_type": "code",
   "execution_count": 95,
   "id": "a0d889d3",
   "metadata": {},
   "outputs": [],
   "source": [
    "q2=clf.predict(y)"
   ]
  },
  {
   "cell_type": "code",
   "execution_count": 96,
   "id": "943b8b6d",
   "metadata": {},
   "outputs": [
    {
     "data": {
      "text/html": [
       "<div>\n",
       "<style scoped>\n",
       "    .dataframe tbody tr th:only-of-type {\n",
       "        vertical-align: middle;\n",
       "    }\n",
       "\n",
       "    .dataframe tbody tr th {\n",
       "        vertical-align: top;\n",
       "    }\n",
       "\n",
       "    .dataframe thead th {\n",
       "        text-align: right;\n",
       "    }\n",
       "</style>\n",
       "<table border=\"1\" class=\"dataframe\">\n",
       "  <thead>\n",
       "    <tr style=\"text-align: right;\">\n",
       "      <th></th>\n",
       "      <th>0</th>\n",
       "    </tr>\n",
       "  </thead>\n",
       "  <tbody>\n",
       "    <tr>\n",
       "      <th>0</th>\n",
       "      <td>1</td>\n",
       "    </tr>\n",
       "    <tr>\n",
       "      <th>1</th>\n",
       "      <td>0</td>\n",
       "    </tr>\n",
       "    <tr>\n",
       "      <th>2</th>\n",
       "      <td>0</td>\n",
       "    </tr>\n",
       "    <tr>\n",
       "      <th>3</th>\n",
       "      <td>0</td>\n",
       "    </tr>\n",
       "    <tr>\n",
       "      <th>4</th>\n",
       "      <td>1</td>\n",
       "    </tr>\n",
       "    <tr>\n",
       "      <th>...</th>\n",
       "      <td>...</td>\n",
       "    </tr>\n",
       "    <tr>\n",
       "      <th>25213</th>\n",
       "      <td>0</td>\n",
       "    </tr>\n",
       "    <tr>\n",
       "      <th>25214</th>\n",
       "      <td>0</td>\n",
       "    </tr>\n",
       "    <tr>\n",
       "      <th>25215</th>\n",
       "      <td>1</td>\n",
       "    </tr>\n",
       "    <tr>\n",
       "      <th>25216</th>\n",
       "      <td>1</td>\n",
       "    </tr>\n",
       "    <tr>\n",
       "      <th>25217</th>\n",
       "      <td>0</td>\n",
       "    </tr>\n",
       "  </tbody>\n",
       "</table>\n",
       "<p>25218 rows × 1 columns</p>\n",
       "</div>"
      ],
      "text/plain": [
       "       0\n",
       "0      1\n",
       "1      0\n",
       "2      0\n",
       "3      0\n",
       "4      1\n",
       "...   ..\n",
       "25213  0\n",
       "25214  0\n",
       "25215  1\n",
       "25216  1\n",
       "25217  0\n",
       "\n",
       "[25218 rows x 1 columns]"
      ]
     },
     "execution_count": 96,
     "metadata": {},
     "output_type": "execute_result"
    }
   ],
   "source": [
    "df3=pd.DataFrame(q2)\n",
    "df3"
   ]
  },
  {
   "cell_type": "code",
   "execution_count": 99,
   "id": "8467c9ba",
   "metadata": {},
   "outputs": [],
   "source": [
    "df3.to_csv('prasad3',index=False)"
   ]
  },
  {
   "cell_type": "code",
   "execution_count": null,
   "id": "84ca183a",
   "metadata": {},
   "outputs": [],
   "source": []
  },
  {
   "cell_type": "code",
   "execution_count": null,
   "id": "76910b81",
   "metadata": {},
   "outputs": [],
   "source": []
  },
  {
   "cell_type": "code",
   "execution_count": null,
   "id": "62cb1a61",
   "metadata": {},
   "outputs": [],
   "source": []
  }
 ],
 "metadata": {
  "kernelspec": {
   "display_name": "Python 3 (ipykernel)",
   "language": "python",
   "name": "python3"
  },
  "language_info": {
   "codemirror_mode": {
    "name": "ipython",
    "version": 3
   },
   "file_extension": ".py",
   "mimetype": "text/x-python",
   "name": "python",
   "nbconvert_exporter": "python",
   "pygments_lexer": "ipython3",
   "version": "3.9.7"
  }
 },
 "nbformat": 4,
 "nbformat_minor": 5
}
